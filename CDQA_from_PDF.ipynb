{
  "nbformat": 4,
  "nbformat_minor": 0,
  "metadata": {
    "accelerator": "GPU",
    "colab": {
      "name": "CDQA from PDF",
      "provenance": [],
      "collapsed_sections": [],
      "include_colab_link": true
    },
    "hide_input": false,
    "kernelspec": {
      "display_name": "Python 3",
      "language": "python",
      "name": "python3"
    },
    "language_info": {
      "codemirror_mode": {
        "name": "ipython",
        "version": 3
      },
      "file_extension": ".py",
      "mimetype": "text/x-python",
      "name": "python",
      "nbconvert_exporter": "python",
      "pygments_lexer": "ipython3",
      "version": "3.6.8"
    },
    "toc": {
      "base_numbering": 1,
      "nav_menu": {},
      "number_sections": true,
      "sideBar": true,
      "skip_h1_title": false,
      "title_cell": "Table of Contents",
      "title_sidebar": "Contents",
      "toc_cell": false,
      "toc_position": {},
      "toc_section_display": true,
      "toc_window_display": false
    },
    "varInspector": {
      "cols": {
        "lenName": 16,
        "lenType": 16,
        "lenVar": 40
      },
      "kernels_config": {
        "python": {
          "delete_cmd_postfix": "",
          "delete_cmd_prefix": "del ",
          "library": "var_list.py",
          "varRefreshCmd": "print(var_dic_list())"
        },
        "r": {
          "delete_cmd_postfix": ") ",
          "delete_cmd_prefix": "rm(",
          "library": "var_list.r",
          "varRefreshCmd": "cat(var_dic_list()) "
        }
      },
      "types_to_exclude": [
        "module",
        "function",
        "builtin_function_or_method",
        "instance",
        "_Feature"
      ],
      "window_display": false
    }
  },
  "cells": [
    {
      "cell_type": "markdown",
      "metadata": {
        "id": "view-in-github",
        "colab_type": "text"
      },
      "source": [
        "<a href=\"https://colab.research.google.com/github/PrakharU08/QK-internship/blob/main/CDQA_from_PDF.ipynb\" target=\"_parent\"><img src=\"https://colab.research.google.com/assets/colab-badge.svg\" alt=\"Open In Colab\"/></a>"
      ]
    },
    {
      "cell_type": "markdown",
      "metadata": {
        "id": "wx0Sg_fRM5Kh"
      },
      "source": [
        "# Notebook [2]: Using the PDF converter"
      ]
    },
    {
      "cell_type": "markdown",
      "metadata": {
        "id": "Y5PrFhdQMeBF"
      },
      "source": [
        "\n",
        "\n",
        "This notebook shows how to use the PDF converter to create an input dataframe for the cdQA pipeline from a directory of PDF files.\n"
      ]
    },
    {
      "cell_type": "markdown",
      "metadata": {
        "id": "f58-FXmbMfjz"
      },
      "source": [
        "***Note:*** *To run this notebook you will need to have access to GPU. If you are using colab, you will need to install `cdQA` by executing `!pip install cdqa` in a cell.* "
      ]
    },
    {
      "cell_type": "code",
      "metadata": {
        "id": "BDTrDujcc80J"
      },
      "source": [
        "!pip install cdqa"
      ],
      "execution_count": null,
      "outputs": []
    },
    {
      "cell_type": "code",
      "metadata": {
        "id": "RljvwX_Sauk3",
        "colab": {
          "base_uri": "https://localhost:8080/"
        },
        "outputId": "69a684d6-2fea-4d0e-814a-8128e2752f0c"
      },
      "source": [
        "from google.colab import drive\n",
        "drive.mount('/content/drive')"
      ],
      "execution_count": 1,
      "outputs": [
        {
          "output_type": "stream",
          "text": [
            "Drive already mounted at /content/drive; to attempt to forcibly remount, call drive.mount(\"/content/drive\", force_remount=True).\n"
          ],
          "name": "stdout"
        }
      ]
    },
    {
      "cell_type": "code",
      "metadata": {
        "ExecuteTime": {
          "end_time": "2019-07-20T13:41:40.814076Z",
          "start_time": "2019-07-20T13:41:39.440654Z"
        },
        "colab": {
          "base_uri": "https://localhost:8080/"
        },
        "collapsed": true,
        "id": "7UMrjUJ2EGmu",
        "outputId": "64fc53c3-5d7c-41ac-98e7-efc1d52e71fb"
      },
      "source": [
        "import os\n",
        "import pandas as pd\n",
        "from ast import literal_eval\n",
        "\n",
        "from cdqa.utils.converters import pdf_converter\n",
        "from cdqa.utils.filters import filter_paragraphs\n",
        "from cdqa.pipeline import QAPipeline\n",
        "from cdqa.utils.download import download_model"
      ],
      "execution_count": 2,
      "outputs": [
        {
          "output_type": "stream",
          "text": [
            "/usr/local/lib/python3.6/dist-packages/tqdm/autonotebook/__init__.py:18: TqdmExperimentalWarning: Using `tqdm.autonotebook.tqdm` in notebook mode. Use `tqdm.tqdm` instead to force console mode (e.g. in jupyter console)\n",
            "  \" (e.g. in jupyter console)\", TqdmExperimentalWarning)\n"
          ],
          "name": "stderr"
        }
      ]
    },
    {
      "cell_type": "markdown",
      "metadata": {
        "id": "V1fV_dquOrx0"
      },
      "source": [
        "### Download pre-trained reader model and PDF files"
      ]
    },
    {
      "cell_type": "code",
      "metadata": {
        "ExecuteTime": {
          "end_time": "2019-07-20T13:42:54.139892Z",
          "start_time": "2019-07-20T13:41:41.869993Z"
        },
        "id": "UPBL4zFuY7Jf",
        "colab": {
          "base_uri": "https://localhost:8080/"
        },
        "outputId": "3cad4bff-7042-4975-e85a-36fd24bc5759"
      },
      "source": [
        "# Download model\n",
        "download_model(model='bert-squad_1.1', dir='./models')"
      ],
      "execution_count": 3,
      "outputs": [
        {
          "output_type": "stream",
          "text": [
            "\n",
            "Downloading trained model...\n"
          ],
          "name": "stdout"
        }
      ]
    },
    {
      "cell_type": "code",
      "metadata": {
        "ExecuteTime": {
          "end_time": "2019-07-20T13:43:21.153039Z",
          "start_time": "2019-07-20T13:43:20.228398Z"
        },
        "colab": {
          "base_uri": "https://localhost:8080/"
        },
        "id": "yhg8jFjbERzv",
        "outputId": "74d66972-74ad-4aaf-80bb-0a9bd4664f45"
      },
      "source": [
        "%cd /content/drive/MyDrive/QK_PROJECT"
      ],
      "execution_count": 4,
      "outputs": [
        {
          "output_type": "stream",
          "text": [
            "/content/drive/MyDrive/QK_PROJECT\n"
          ],
          "name": "stdout"
        }
      ]
    },
    {
      "cell_type": "markdown",
      "metadata": {
        "id": "QqPK6BV2O-RO"
      },
      "source": [
        "### Convert the PDF files into a DataFrame for cdQA pipeline"
      ]
    },
    {
      "cell_type": "code",
      "metadata": {
        "ExecuteTime": {
          "end_time": "2019-07-20T13:44:01.821890Z",
          "start_time": "2019-07-20T13:43:22.685954Z"
        },
        "colab": {
          "base_uri": "https://localhost:8080/",
          "height": 152
        },
        "id": "czafu4-aEXXm",
        "outputId": "ce5a5a77-75e5-4c7e-9ccf-33b7c66abbd5"
      },
      "source": [
        "df = pdf_converter(directory_path='/content/drive/MyDrive/QK_PROJECT')\n",
        "df.head()"
      ],
      "execution_count": 5,
      "outputs": [
        {
          "output_type": "stream",
          "text": [
            "2020-11-24 09:17:23,801 [MainThread  ] [INFO ]  Retrieving http://search.maven.org/remotecontent?filepath=org/apache/tika/tika-server/1.19/tika-server-1.19.jar to /tmp/tika-server.jar.\n",
            "2020-11-24 09:17:25,149 [MainThread  ] [INFO ]  Retrieving http://search.maven.org/remotecontent?filepath=org/apache/tika/tika-server/1.19/tika-server-1.19.jar.md5 to /tmp/tika-server.jar.md5.\n",
            "2020-11-24 09:17:25,581 [MainThread  ] [WARNI]  Failed to see startup log message; retrying...\n"
          ],
          "name": "stderr"
        },
        {
          "output_type": "execute_result",
          "data": {
            "text/html": [
              "<div>\n",
              "<style scoped>\n",
              "    .dataframe tbody tr th:only-of-type {\n",
              "        vertical-align: middle;\n",
              "    }\n",
              "\n",
              "    .dataframe tbody tr th {\n",
              "        vertical-align: top;\n",
              "    }\n",
              "\n",
              "    .dataframe thead th {\n",
              "        text-align: right;\n",
              "    }\n",
              "</style>\n",
              "<table border=\"1\" class=\"dataframe\">\n",
              "  <thead>\n",
              "    <tr style=\"text-align: right;\">\n",
              "      <th></th>\n",
              "      <th>title</th>\n",
              "      <th>paragraphs</th>\n",
              "    </tr>\n",
              "  </thead>\n",
              "  <tbody>\n",
              "    <tr>\n",
              "      <th>0</th>\n",
              "      <td>infosec_policy</td>\n",
              "      <td>[Information Security:  Everyone is responsib...</td>\n",
              "    </tr>\n",
              "  </tbody>\n",
              "</table>\n",
              "</div>"
            ],
            "text/plain": [
              "            title                                         paragraphs\n",
              "0  infosec_policy  [Information Security:  Everyone is responsib..."
            ]
          },
          "metadata": {
            "tags": []
          },
          "execution_count": 5
        }
      ]
    },
    {
      "cell_type": "markdown",
      "metadata": {
        "id": "FLZd4H_vPJuU"
      },
      "source": [
        "### Instantiate the cdQA pipeline from a pre-trained reader model"
      ]
    },
    {
      "cell_type": "code",
      "metadata": {
        "ExecuteTime": {
          "end_time": "2019-07-20T13:44:46.283172Z",
          "start_time": "2019-07-20T13:44:45.317024Z"
        },
        "colab": {
          "base_uri": "https://localhost:8080/"
        },
        "id": "8OOqnkNyEaFe",
        "outputId": "43960388-79a2-4896-863e-ff017591013b"
      },
      "source": [
        "cdqa_pipeline = QAPipeline(reader='./models/bert_qa.joblib', max_df=1.0)\n",
        "\n",
        "# Fit Retriever to documents\n",
        "cdqa_pipeline.fit_retriever(df=df)"
      ],
      "execution_count": 6,
      "outputs": [
        {
          "output_type": "stream",
          "text": [
            "100%|██████████| 231508/231508 [00:00<00:00, 2615542.52B/s]\n"
          ],
          "name": "stderr"
        },
        {
          "output_type": "execute_result",
          "data": {
            "text/plain": [
              "QAPipeline(reader=BertQA(adam_epsilon=1e-08, bert_model='bert-base-uncased',\n",
              "                         do_lower_case=True, fp16=False,\n",
              "                         gradient_accumulation_steps=1, learning_rate=5e-05,\n",
              "                         local_rank=-1, loss_scale=0, max_answer_length=30,\n",
              "                         n_best_size=20, no_cuda=False,\n",
              "                         null_score_diff_threshold=0.0, num_train_epochs=3.0,\n",
              "                         output_dir=None, predict_batch_size=8, seed=42,\n",
              "                         server_ip='', server_po..._size=8,\n",
              "                         verbose_logging=False, version_2_with_negative=False,\n",
              "                         warmup_proportion=0.1, warmup_steps=0),\n",
              "           retrieve_by_doc=False,\n",
              "           retriever=BM25Retriever(b=0.75, floor=None, k1=2.0, lowercase=True,\n",
              "                                   max_df=1.0, min_df=2, ngram_range=(1, 2),\n",
              "                                   preprocessor=None, stop_words='english',\n",
              "                                   token_pattern='(?u)\\\\b\\\\w\\\\w+\\\\b',\n",
              "                                   tokenizer=None, top_n=20, verbose=False,\n",
              "                                   vocabulary=None))"
            ]
          },
          "metadata": {
            "tags": []
          },
          "execution_count": 6
        }
      ]
    },
    {
      "cell_type": "markdown",
      "metadata": {
        "id": "40nBTa4UPrO2"
      },
      "source": [
        " ### Execute a query"
      ]
    },
    {
      "cell_type": "code",
      "metadata": {
        "ExecuteTime": {
          "end_time": "2019-07-20T13:54:57.200016Z",
          "start_time": "2019-07-20T13:44:49.005187Z"
        },
        "colab": {
          "base_uri": "https://localhost:8080/"
        },
        "id": "POH2gjywEcNb",
        "outputId": "95a70ad0-4601-42c8-bfbb-16c0004187d1"
      },
      "source": [
        "query = 'Goals of security?'\n",
        "prediction = cdqa_pipeline.predict(query)\n",
        "prediction"
      ],
      "execution_count": 7,
      "outputs": [
        {
          "output_type": "execute_result",
          "data": {
            "text/plain": [
              "('to achieve Information & physical security and business continuity',\n",
              " 'infosec_policy',\n",
              " 'ISO 27001: \\uf0d8 ISO 27001 is internationally accepted, certifiable, Information Security Management Standard. ISMS stand for Information Security Management System. \\uf0d8  ISO 27001 ensures that all the possible threats to a business are accessed and managed by enforcing various security processes and to perform audits that these process are being performed on a required basis. It helps to achieve Information & physical security and business continuity. \\uf0d8  ISO 27001 has 7 clauses and 14 domains.   ',\n",
              " 8.135943793742195)"
            ]
          },
          "metadata": {
            "tags": []
          },
          "execution_count": 7
        }
      ]
    },
    {
      "cell_type": "markdown",
      "metadata": {
        "id": "PgdnYmW3P3d8"
      },
      "source": [
        "### Explore predictions"
      ]
    },
    {
      "cell_type": "code",
      "metadata": {
        "ExecuteTime": {
          "end_time": "2019-07-20T13:54:57.336337Z",
          "start_time": "2019-07-20T13:54:57.318676Z"
        },
        "colab": {
          "base_uri": "https://localhost:8080/"
        },
        "id": "ThCffJekEdiC",
        "outputId": "eac9e535-e009-4735-aee2-362254c86641"
      },
      "source": [
        "print('query: {}'.format(query))\n",
        "print('answer: {}'.format(prediction[0]))\n",
        "print('title: {}'.format(prediction[1]))\n",
        "print('paragraph: {}'.format(prediction[2]))"
      ],
      "execution_count": 8,
      "outputs": [
        {
          "output_type": "stream",
          "text": [
            "query: Goals of security?\n",
            "answer: to achieve Information & physical security and business continuity\n",
            "title: infosec_policy\n",
            "paragraph: ISO 27001:  ISO 27001 is internationally accepted, certifiable, Information Security Management Standard. ISMS stand for Information Security Management System.   ISO 27001 ensures that all the possible threats to a business are accessed and managed by enforcing various security processes and to perform audits that these process are being performed on a required basis. It helps to achieve Information & physical security and business continuity.   ISO 27001 has 7 clauses and 14 domains.   \n"
          ],
          "name": "stdout"
        }
      ]
    },
    {
      "cell_type": "code",
      "metadata": {
        "id": "PiY1r3mKaqpt"
      },
      "source": [
        ""
      ],
      "execution_count": null,
      "outputs": []
    }
  ]
}